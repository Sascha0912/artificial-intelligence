{
 "cells": [
  {
   "cell_type": "code",
   "execution_count": 16,
   "metadata": {},
   "outputs": [
    {
     "name": "stdout",
     "output_type": "stream",
     "text": [
      "\n",
      "\r",
      "+ - + - + - + - + - + - + - + - + - + - + - +\n",
      "\r",
      "|   |   |   | X | 1 | X |   |   |   |   |   |\n",
      "\r",
      "+ - + - + - + - + - + - + - + - + - + - + - +\n",
      "\r",
      "|   |   |   | X |   | X | X |   | X |   | X |\n",
      "\r",
      "+ - + - + - + - + - + - + - + - + - + - + - +\n",
      "\r",
      "|   |   | X |   | X | X | X |   | X | X | X |\n",
      "\r",
      "+ - + - + - + - + - + - + - + - + - + - + - +\n",
      "\r",
      "|   |   |   | X | X | X |   | X | X | X |   |\n",
      "\r",
      "+ - + - + - + - + - + - + - + - + - + - + - +\n",
      "\r",
      "|   | X | X | X | X | X | X | X | X | X | X |\n",
      "\r",
      "+ - + - + - + - + - + - + - + - + - + - + - +\n",
      "\r",
      "| 2 |   | X |   | X | X | X | X | X |   |   |\n",
      "\r",
      "+ - + - + - + - + - + - + - + - + - + - + - +\n",
      "\r",
      "| X | X | X | X | X | X | X | X |   |   | X |\n",
      "\r",
      "+ - + - + - + - + - + - + - + - + - + - + - +\n",
      "\r",
      "|   | X | X | X | X |   | X |   | X |   |   |\n",
      "\r",
      "+ - + - + - + - + - + - + - + - + - + - + - +\n",
      "\r",
      "| X | X |   | X | X |   | X |   |   | X |   |\n",
      "\r",
      "+ - + - + - + - + - + - + - + - + - + - + - +\r\n",
      "\n"
     ]
    }
   ],
   "source": [
    "from isolation import *\n",
    "\n",
    "board = Isolation(board=36979453205081345753054950638051629, ply_count=59, locs=(110, 49))\n",
    "debug_board = DebugState.from_state(board)\n",
    "print(debug_board)"
   ]
  },
  {
   "cell_type": "code",
   "execution_count": 3,
   "metadata": {},
   "outputs": [
    {
     "name": "stdout",
     "output_type": "stream",
     "text": [
      "1001111000100010110000000000010000000000000000000100111000000000011100000001001110001100100111100000100011000101011\n"
     ]
    }
   ],
   "source": [
    "print(debug_board.bitboard_string)"
   ]
  },
  {
   "cell_type": "code",
   "execution_count": null,
   "metadata": {},
   "outputs": [],
   "source": []
  }
 ],
 "metadata": {
  "kernelspec": {
   "display_name": "Python [default]",
   "language": "python",
   "name": "python3"
  },
  "language_info": {
   "codemirror_mode": {
    "name": "ipython",
    "version": 3
   },
   "file_extension": ".py",
   "mimetype": "text/x-python",
   "name": "python",
   "nbconvert_exporter": "python",
   "pygments_lexer": "ipython3",
   "version": "3.5.4"
  }
 },
 "nbformat": 4,
 "nbformat_minor": 2
}
