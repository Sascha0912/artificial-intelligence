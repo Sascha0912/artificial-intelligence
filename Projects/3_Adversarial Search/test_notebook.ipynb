{
 "cells": [
  {
   "cell_type": "code",
   "execution_count": 15,
   "metadata": {},
   "outputs": [
    {
     "name": "stderr",
     "output_type": "stream",
     "text": [
      "[Errno 2] No such file or directory: 'data.pickle'\n"
     ]
    }
   ],
   "source": [
    "from run_match import *\n",
    "from sample_players import DataPlayer\n",
    "\n",
    "DEPTH_LIMIT = 3\n",
    "\n",
    "class CustomPlayer(DataPlayer):\n",
    "    \n",
    "    def get_action(self, state):\n",
    "        for depth in range(0, DEPTH_LIMIT):\n",
    "#             print(\"doing depth\", depth)\n",
    "            self.queue.put(self.search(state, depth))\n",
    "    \n",
    "    def search(self, state, depth):\n",
    "        \"\"\"Alpha beta pruning with iterative deepening\"\"\"\n",
    "        alpha = float(\"-inf\")\n",
    "        beta = float(\"inf\")\n",
    "        best_score = float(\"-inf\")\n",
    "        best_move = None\n",
    "        for a in state.actions():\n",
    "            v = self.min_value(state.result(a), alpha, beta, depth - 1)\n",
    "            alpha = max(alpha, v)\n",
    "            if v > best_score:\n",
    "                best_score = v\n",
    "                best_move = a\n",
    "        return best_move\n",
    "\n",
    "    def min_value(self, gameState, alpha, beta, depth):\n",
    "        if gameState.terminal_test():\n",
    "            return gameState.utility(self.player_id)\n",
    "      \n",
    "        if depth <= 0:\n",
    "            return self.score(gameState)\n",
    "\n",
    "        v = float(\"inf\")\n",
    "        for a in gameState.actions():\n",
    "            v = min(v, self.max_value(gameState.result(a), alpha, beta, depth - 1))\n",
    "            if v <= alpha:\n",
    "                return v\n",
    "            beta = min(beta, v)\n",
    "        return v\n",
    "\n",
    "    def max_value(self, gameState, alpha, beta, depth):\n",
    "        if gameState.terminal_test():\n",
    "            return gameState.utility(self.player_id)\n",
    "\n",
    "        if depth <= 0:\n",
    "            return self.score(gameState)\n",
    "      \n",
    "        v = float(\"-inf\")\n",
    "        for a in gameState.actions():\n",
    "            v = max(v, self.min_value(gameState.result(a), alpha, beta, depth - 1))\n",
    "            if v >= beta:\n",
    "                return v\n",
    "            alpha = max(alpha, v)\n",
    "        return v\n",
    "    \n",
    "    def score(self, state):\n",
    "        own_loc = state.locs[self.player_id]\n",
    "        opp_loc = state.locs[1 - self.player_id]\n",
    "        own_liberties = state.liberties(own_loc)\n",
    "        opp_liberties = state.liberties(opp_loc)\n",
    "        return len(own_liberties) - len(opp_liberties)\n",
    "\n",
    "my_player = CustomPlayer(0)\n",
    "\n",
    "def my_play_matches(custom_agent, test_agent, rounds, fair_matches=True):\n",
    "    \n",
    "    matches = []\n",
    "    for match_id in range(rounds):\n",
    "        # initialize all games with a random move and response\n",
    "        state = Isolation()\n",
    "        matches.append(((test_agent, custom_agent), state, TIME_LIMIT, match_id))\n",
    "        matches.append(((custom_agent, test_agent), state, TIME_LIMIT, match_id))\n",
    "    results = _run_matches(_matches, custom.agent.name, 1)\n",
    "    \n",
    "    if fair_matches:\n",
    "        _matches = make_fair_matches(matches, results)\n",
    "        results.extend(_run_matches(_matches, custom_agent.name, 1))\n",
    "        \n",
    "    wins = sum(int(r[0].name == custom_agent.name) for r in results)\n",
    "    return wins, len(matches) * (1 + int(fair_matches))\n",
    "\n",
    "# my_play_matches(my_player, TEST_AGENTS['MINIMAX'], 10)"
   ]
  },
  {
   "cell_type": "code",
   "execution_count": 16,
   "metadata": {},
   "outputs": [
    {
     "ename": "NameError",
     "evalue": "name '_run_matches' is not defined",
     "output_type": "error",
     "traceback": [
      "\u001b[1;31m---------------------------------------------------------------------------\u001b[0m",
      "\u001b[1;31mNameError\u001b[0m                                 Traceback (most recent call last)",
      "\u001b[1;32m<ipython-input-16-e38a82d032a6>\u001b[0m in \u001b[0;36m<module>\u001b[1;34m()\u001b[0m\n\u001b[0;32m      7\u001b[0m \u001b[0mscores\u001b[0m \u001b[1;33m=\u001b[0m \u001b[0mlist\u001b[0m\u001b[1;33m(\u001b[0m\u001b[1;33m)\u001b[0m\u001b[1;33m\u001b[0m\u001b[0m\n\u001b[0;32m      8\u001b[0m \u001b[1;32mfor\u001b[0m \u001b[0mn\u001b[0m \u001b[1;32min\u001b[0m \u001b[0mrange\u001b[0m \u001b[1;33m(\u001b[0m\u001b[1;36m1\u001b[0m\u001b[1;33m,\u001b[0m\u001b[1;36m10\u001b[0m\u001b[1;33m)\u001b[0m\u001b[1;33m:\u001b[0m\u001b[1;33m\u001b[0m\u001b[0m\n\u001b[1;32m----> 9\u001b[1;33m     \u001b[0mscores\u001b[0m\u001b[1;33m.\u001b[0m\u001b[0mappend\u001b[0m\u001b[1;33m(\u001b[0m\u001b[0mtest_depth_performance\u001b[0m\u001b[1;33m(\u001b[0m\u001b[0mn\u001b[0m\u001b[1;33m)\u001b[0m\u001b[1;33m)\u001b[0m\u001b[1;33m\u001b[0m\u001b[0m\n\u001b[0m\u001b[0;32m     10\u001b[0m \u001b[0mplt\u001b[0m\u001b[1;33m.\u001b[0m\u001b[0mplot\u001b[0m\u001b[1;33m(\u001b[0m\u001b[0mscores\u001b[0m\u001b[1;33m)\u001b[0m\u001b[1;33m\u001b[0m\u001b[0m\n\u001b[0;32m     11\u001b[0m \u001b[0mplt\u001b[0m\u001b[1;33m.\u001b[0m\u001b[0mshow\u001b[0m\u001b[1;33m(\u001b[0m\u001b[1;33m)\u001b[0m\u001b[1;33m\u001b[0m\u001b[0m\n",
      "\u001b[1;32m<ipython-input-16-e38a82d032a6>\u001b[0m in \u001b[0;36mtest_depth_performance\u001b[1;34m(n)\u001b[0m\n\u001b[0;32m      3\u001b[0m \u001b[1;32mdef\u001b[0m \u001b[0mtest_depth_performance\u001b[0m\u001b[1;33m(\u001b[0m\u001b[0mn\u001b[0m\u001b[1;33m)\u001b[0m\u001b[1;33m:\u001b[0m\u001b[1;33m\u001b[0m\u001b[0m\n\u001b[0;32m      4\u001b[0m     \u001b[0mDEPTH_LIMIT\u001b[0m \u001b[1;33m=\u001b[0m \u001b[0mn\u001b[0m\u001b[1;33m\u001b[0m\u001b[0m\n\u001b[1;32m----> 5\u001b[1;33m     \u001b[0mmy_play_matches\u001b[0m\u001b[1;33m(\u001b[0m\u001b[0mmy_player\u001b[0m\u001b[1;33m,\u001b[0m \u001b[0mTEST_AGENTS\u001b[0m\u001b[1;33m[\u001b[0m\u001b[1;34m'MINIMAX'\u001b[0m\u001b[1;33m]\u001b[0m\u001b[1;33m,\u001b[0m \u001b[1;36m10\u001b[0m\u001b[1;33m)\u001b[0m\u001b[1;33m\u001b[0m\u001b[0m\n\u001b[0m\u001b[0;32m      6\u001b[0m \u001b[1;33m\u001b[0m\u001b[0m\n\u001b[0;32m      7\u001b[0m \u001b[0mscores\u001b[0m \u001b[1;33m=\u001b[0m \u001b[0mlist\u001b[0m\u001b[1;33m(\u001b[0m\u001b[1;33m)\u001b[0m\u001b[1;33m\u001b[0m\u001b[0m\n",
      "\u001b[1;32m<ipython-input-15-ff57a78e7bb7>\u001b[0m in \u001b[0;36mmy_play_matches\u001b[1;34m(custom_agent, test_agent, rounds, fair_matches)\u001b[0m\n\u001b[0;32m     72\u001b[0m         \u001b[0mmatches\u001b[0m\u001b[1;33m.\u001b[0m\u001b[0mappend\u001b[0m\u001b[1;33m(\u001b[0m\u001b[1;33m(\u001b[0m\u001b[1;33m(\u001b[0m\u001b[0mtest_agent\u001b[0m\u001b[1;33m,\u001b[0m \u001b[0mcustom_agent\u001b[0m\u001b[1;33m)\u001b[0m\u001b[1;33m,\u001b[0m \u001b[0mstate\u001b[0m\u001b[1;33m,\u001b[0m \u001b[0mTIME_LIMIT\u001b[0m\u001b[1;33m,\u001b[0m \u001b[0mmatch_id\u001b[0m\u001b[1;33m)\u001b[0m\u001b[1;33m)\u001b[0m\u001b[1;33m\u001b[0m\u001b[0m\n\u001b[0;32m     73\u001b[0m         \u001b[0mmatches\u001b[0m\u001b[1;33m.\u001b[0m\u001b[0mappend\u001b[0m\u001b[1;33m(\u001b[0m\u001b[1;33m(\u001b[0m\u001b[1;33m(\u001b[0m\u001b[0mcustom_agent\u001b[0m\u001b[1;33m,\u001b[0m \u001b[0mtest_agent\u001b[0m\u001b[1;33m)\u001b[0m\u001b[1;33m,\u001b[0m \u001b[0mstate\u001b[0m\u001b[1;33m,\u001b[0m \u001b[0mTIME_LIMIT\u001b[0m\u001b[1;33m,\u001b[0m \u001b[0mmatch_id\u001b[0m\u001b[1;33m)\u001b[0m\u001b[1;33m)\u001b[0m\u001b[1;33m\u001b[0m\u001b[0m\n\u001b[1;32m---> 74\u001b[1;33m     \u001b[0mresults\u001b[0m \u001b[1;33m=\u001b[0m \u001b[0m_run_matches\u001b[0m\u001b[1;33m(\u001b[0m\u001b[0m_matches\u001b[0m\u001b[1;33m,\u001b[0m \u001b[0mcustom\u001b[0m\u001b[1;33m.\u001b[0m\u001b[0magent\u001b[0m\u001b[1;33m.\u001b[0m\u001b[0mname\u001b[0m\u001b[1;33m,\u001b[0m \u001b[1;36m1\u001b[0m\u001b[1;33m)\u001b[0m\u001b[1;33m\u001b[0m\u001b[0m\n\u001b[0m\u001b[0;32m     75\u001b[0m \u001b[1;33m\u001b[0m\u001b[0m\n\u001b[0;32m     76\u001b[0m     \u001b[1;32mif\u001b[0m \u001b[0mfair_matches\u001b[0m\u001b[1;33m:\u001b[0m\u001b[1;33m\u001b[0m\u001b[0m\n",
      "\u001b[1;31mNameError\u001b[0m: name '_run_matches' is not defined"
     ]
    }
   ],
   "source": [
    "import matplotlib.pyplot as plt\n",
    "\n",
    "def test_depth_performance(n):\n",
    "    DEPTH_LIMIT = n\n",
    "    my_play_matches(my_player, TEST_AGENTS['MINIMAX'], 10)\n",
    "\n",
    "scores = list()\n",
    "for n in range (1,10):\n",
    "    scores.append(test_depth_performance(n))\n",
    "plt.plot(scores)\n",
    "plt.show()"
   ]
  },
  {
   "cell_type": "code",
   "execution_count": null,
   "metadata": {},
   "outputs": [],
   "source": []
  }
 ],
 "metadata": {
  "kernelspec": {
   "display_name": "Python [conda env:aind]",
   "language": "python",
   "name": "conda-env-aind-py"
  },
  "language_info": {
   "codemirror_mode": {
    "name": "ipython",
    "version": 3
   },
   "file_extension": ".py",
   "mimetype": "text/x-python",
   "name": "python",
   "nbconvert_exporter": "python",
   "pygments_lexer": "ipython3",
   "version": "3.5.4"
  }
 },
 "nbformat": 4,
 "nbformat_minor": 2
}
